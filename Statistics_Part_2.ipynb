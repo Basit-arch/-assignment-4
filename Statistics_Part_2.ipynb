{
  "nbformat": 4,
  "nbformat_minor": 0,
  "metadata": {
    "colab": {
      "provenance": [],
      "authorship_tag": "ABX9TyOQRXTir8AhinAW9MFxmoT8",
      "include_colab_link": true
    },
    "kernelspec": {
      "name": "python3",
      "display_name": "Python 3"
    },
    "language_info": {
      "name": "python"
    }
  },
  "cells": [
    {
      "cell_type": "markdown",
      "metadata": {
        "id": "view-in-github",
        "colab_type": "text"
      },
      "source": [
        "<a href=\"https://colab.research.google.com/github/Basit-arch/-assignment-4/blob/main/Statistics_Part_2.ipynb\" target=\"_parent\"><img src=\"https://colab.research.google.com/assets/colab-badge.svg\" alt=\"Open In Colab\"/></a>"
      ]
    },
    {
      "cell_type": "markdown",
      "source": [
        "##THOERY QUESTIONS:"
      ],
      "metadata": {
        "id": "ed0wLlpw3rtz"
      }
    },
    {
      "cell_type": "markdown",
      "source": [
        " 1. What is hypothesis testing in statistics?"
      ],
      "metadata": {
        "id": "YVZ6guDL33dP"
      }
    },
    {
      "cell_type": "markdown",
      "source": [
        "Hypothesis testing in statistics is a method to determine if there is enough evidence to reject a null hypothesis, using sample data to infer conclusions about a population.\n",
        "\n",
        "\n",
        "\n",
        "\n",
        "\n",
        "\n",
        "\n"
      ],
      "metadata": {
        "id": "bUoMJ8OX3_Wm"
      }
    },
    {
      "cell_type": "markdown",
      "source": [
        "2.  What is the null hypothesis, and how does it differ from the alternative hypothesis?"
      ],
      "metadata": {
        "id": "2MgLSMQe4ANf"
      }
    },
    {
      "cell_type": "markdown",
      "source": [
        "\n",
        "The null hypothesis (H₀) assumes no effect or relationship exists. The alternative hypothesis (H₁) suggests a significant effect or relationship. Hypothesis testing evaluates evidence to support or reject H₀ in favor of H₁.\n",
        "\n",
        "\n",
        "\n",
        "\n",
        "\n",
        "\n",
        "\n"
      ],
      "metadata": {
        "id": "jlH1tpFB4OjT"
      }
    },
    {
      "cell_type": "markdown",
      "source": [
        "3.  What is the significance level in hypothesis testing, and why is it important?"
      ],
      "metadata": {
        "id": "yvP0lvXz4Pbo"
      }
    },
    {
      "cell_type": "markdown",
      "source": [
        "The significance level (α) in hypothesis testing is the threshold for rejecting the null hypothesis. Commonly set at 0.05, it helps control the probability of making a Type I error.\n",
        "\n",
        "\n",
        "\n",
        "\n",
        "\n",
        "\n",
        "\n"
      ],
      "metadata": {
        "id": "m4hM22CG4k2r"
      }
    },
    {
      "cell_type": "markdown",
      "source": [
        "4.  What does a P-value represent in hypothesis testing?"
      ],
      "metadata": {
        "id": "w5QhTo7P4XQK"
      }
    },
    {
      "cell_type": "markdown",
      "source": [
        "A P-value in hypothesis testing represents the probability of observing results as extreme as the sample data, assuming the null hypothesis is true. Smaller P-values indicate stronger evidence against the null hypothesis.\n",
        "\n",
        "\n",
        "\n",
        "\n",
        "\n",
        "\n",
        "\n"
      ],
      "metadata": {
        "id": "aUMbUB664g9J"
      }
    },
    {
      "cell_type": "markdown",
      "source": [
        "5.  How do you interpret the P-value in hypothesis testing?"
      ],
      "metadata": {
        "id": "7UW0OlIr40wy"
      }
    },
    {
      "cell_type": "markdown",
      "source": [
        "\n",
        "A small P-value (e.g., <0.05) suggests strong evidence against the null hypothesis, leading to its rejection. A large P-value indicates insufficient evidence to reject the null hypothesis."
      ],
      "metadata": {
        "id": "dPsJLqCQ5G5A"
      }
    },
    {
      "cell_type": "markdown",
      "source": [
        "6.  What are Type 1 and Type 2 errors in hypothesis testing?"
      ],
      "metadata": {
        "id": "AQ1T3RBn5Nce"
      }
    },
    {
      "cell_type": "markdown",
      "source": [
        "\n",
        "Type I error occurs when the null hypothesis is wrongly rejected (false positive). Type II error occurs when the null hypothesis is wrongly accepted (false negative), missing a true effect or relationship.\n",
        "\n",
        "\n",
        "\n",
        "\n",
        "\n",
        "\n",
        "\n"
      ],
      "metadata": {
        "id": "3CAU5ZGd5S9m"
      }
    },
    {
      "cell_type": "markdown",
      "source": [
        "7.  What is the difference between a one-tailed and a two-tailed test in hypothesis testing?"
      ],
      "metadata": {
        "id": "slt_plVZ5ZNJ"
      }
    },
    {
      "cell_type": "markdown",
      "source": [
        "A one-tailed test examines effects in a specific direction, while a two-tailed test evaluates effects in both directions. The choice depends on the research question and hypotheses being tested.\n",
        "\n",
        "\n",
        "\n",
        "\n",
        "\n",
        "\n",
        "\n"
      ],
      "metadata": {
        "id": "HK-Mi5fk5hOt"
      }
    },
    {
      "cell_type": "markdown",
      "source": [
        "8.  What is the Z-test, and when is it used in hypothesis testing?"
      ],
      "metadata": {
        "id": "9mLoJJzs5iZM"
      }
    },
    {
      "cell_type": "markdown",
      "source": [
        "A Z-test is used to determine if there is a significant difference between sample and population means or proportions when the population variance is known and the sample size is large (n > 30).\n",
        "\n",
        "\n",
        "\n",
        "\n",
        "\n",
        "\n",
        "\n"
      ],
      "metadata": {
        "id": "BFAdEs6F5vnp"
      }
    },
    {
      "cell_type": "markdown",
      "source": [
        "9.  How do you calculate the Z-score, and what does it represent in hypothesis testing?"
      ],
      "metadata": {
        "id": "bxdlMjqs5zWT"
      }
    },
    {
      "cell_type": "markdown",
      "source": [
        "\n",
        "The Z-score is calculated as\n",
        "𝑍\n",
        "=\n",
        "𝑋\n",
        "−\n",
        "𝜇\n",
        "𝜎\n",
        "Z=\n",
        "σ\n",
        "X−μ\n",
        "​\n",
        " , where\n",
        "𝑋\n",
        "X is the sample mean,\n",
        "𝜇\n",
        "μ is the population mean, and\n",
        "𝜎\n",
        "σ is the standard deviation. It measures how many standard deviations a value is from the mean.\n",
        "\n",
        "\n",
        "\n",
        "\n",
        "\n",
        "\n",
        "\n"
      ],
      "metadata": {
        "id": "MZ2PErXF5_ZS"
      }
    },
    {
      "cell_type": "markdown",
      "source": [
        "10.  What is the T-distribution, and when should it be used instead of the normal distribution?"
      ],
      "metadata": {
        "id": "vYfO6kUy6A6d"
      }
    },
    {
      "cell_type": "markdown",
      "source": [
        "The T-distribution is used when the sample size is small (n < 30) or when the population standard deviation is unknown. It accounts for greater variability and has heavier tails than the normal distribution."
      ],
      "metadata": {
        "id": "zxpKWrzO6HMC"
      }
    },
    {
      "cell_type": "markdown",
      "source": [
        "11.  What is the difference between a Z-test and a T-test?"
      ],
      "metadata": {
        "id": "xhjULHHB6NLT"
      }
    },
    {
      "cell_type": "markdown",
      "source": [
        "A Z-test is used when the population variance is known and sample size is large. A T-test is used when the population variance is unknown and the sample size is small, providing more flexibility for estimating variability.\n",
        "\n",
        "\n",
        "\n",
        "\n",
        "\n",
        "\n",
        "\n"
      ],
      "metadata": {
        "id": "VzPYzoYz6W_I"
      }
    },
    {
      "cell_type": "markdown",
      "source": [
        "12.  What is the T-test, and how is it used in hypothesis testing?"
      ],
      "metadata": {
        "id": "El70Eblf6Xs6"
      }
    },
    {
      "cell_type": "markdown",
      "source": [
        "\n",
        "A T-test is used to compare the means of two groups to determine if there is a statistically significant difference between them. It is commonly used when dealing with small sample sizes or when the population variance is unknown."
      ],
      "metadata": {
        "id": "0lU82z0e6eZG"
      }
    },
    {
      "cell_type": "markdown",
      "source": [
        "13.   What is the relationship between Z-test and T-test in hypothesis testing?"
      ],
      "metadata": {
        "id": "gI2cWivi6fJ0"
      }
    },
    {
      "cell_type": "markdown",
      "source": [
        "\n",
        "The Z-test and T-test are both used in hypothesis testing, with the main difference being the assumption about population variance. A Z-test is used when the population variance is known or the sample size is large, while a T-test is used when the population variance is unknown and the sample size is small."
      ],
      "metadata": {
        "id": "jWlgMY5261H6"
      }
    },
    {
      "cell_type": "markdown",
      "source": [
        "14.   What is a confidence interval, and how is it used to interpret statistical results?"
      ],
      "metadata": {
        "id": "aDhdYrbf66y9"
      }
    },
    {
      "cell_type": "markdown",
      "source": [
        "A confidence interval (CI) provides a range of values within which the true population parameter is likely to fall, based on sample data. It helps assess the precision and uncertainty of statistical results.\n",
        "\n",
        "\n",
        "\n",
        "\n",
        "\n",
        "\n",
        "\n"
      ],
      "metadata": {
        "id": "WSx5A9ut7CoQ"
      }
    },
    {
      "cell_type": "markdown",
      "source": [
        "15.  What is the margin of error, and how does it affect the confidence interval?"
      ],
      "metadata": {
        "id": "QwGOaapD7Vxq"
      }
    },
    {
      "cell_type": "markdown",
      "source": [
        "\n",
        "The margin of error (MOE) quantifies the range of possible values around a sample statistic. A larger margin of error increases the width of the confidence interval, indicating greater uncertainty, while a smaller margin decreases it.\n",
        "\n",
        "\n",
        "\n",
        "\n",
        "\n",
        "\n",
        "\n"
      ],
      "metadata": {
        "id": "J5TjFnc27eXc"
      }
    },
    {
      "cell_type": "markdown",
      "source": [
        "16.  How is Bayes' Theorem used in statistics, and what is its significance?"
      ],
      "metadata": {
        "id": "U2kLXYh37fHw"
      }
    },
    {
      "cell_type": "markdown",
      "source": [
        "\n",
        "Bayes' Theorem is used to update the probability of a hypothesis based on new evidence. It incorporates prior beliefs and likelihoods, providing a more dynamic approach to statistical inference and decision-making.\n",
        "\n",
        "\n",
        "\n",
        "\n",
        "\n",
        "\n",
        "\n"
      ],
      "metadata": {
        "id": "V2N_ELjg7mcM"
      }
    },
    {
      "cell_type": "markdown",
      "source": [
        "17.  What is the Chi-square distribution, and when is it used?"
      ],
      "metadata": {
        "id": "mo7Ux6A_7sSn"
      }
    },
    {
      "cell_type": "markdown",
      "source": [
        "The Chi-square distribution is used for categorical data to test the independence between variables or goodness-of-fit. It is commonly applied in tests like Chi-square tests of independence and goodness-of-fit."
      ],
      "metadata": {
        "id": "11DT4e1i7tw-"
      }
    },
    {
      "cell_type": "markdown",
      "source": [
        "18.  What is the Chi-square goodness of fit test, and how is it applied?"
      ],
      "metadata": {
        "id": "BVSTi-Yr7802"
      }
    },
    {
      "cell_type": "markdown",
      "source": [
        "\n",
        "The Chi-square goodness of fit test compares observed frequencies with expected frequencies based on a specific distribution. It assesses how well the observed data fits the hypothesized distribution.\n",
        "\n",
        "\n",
        "\n",
        "\n",
        "\n",
        "\n",
        "\n"
      ],
      "metadata": {
        "id": "F8A-CxFU8Bxn"
      }
    },
    {
      "cell_type": "markdown",
      "source": [
        "19.  What is the F-distribution, and when is it used in hypothesis testing?"
      ],
      "metadata": {
        "id": "ZO0rG0p98J0l"
      }
    },
    {
      "cell_type": "markdown",
      "source": [
        "The F-distribution is used in hypothesis testing for comparing variances between two or more groups. It is commonly applied in ANOVA (Analysis of Variance) to assess differences in means across multiple groups.\n",
        "\n",
        "\n",
        "\n",
        "\n",
        "\n",
        "\n",
        "\n"
      ],
      "metadata": {
        "id": "45X1cE1X8S6p"
      }
    },
    {
      "cell_type": "markdown",
      "source": [
        "20.  What is an ANOVA test, and what are its assumptions?"
      ],
      "metadata": {
        "id": "VFohZltH8a1q"
      }
    },
    {
      "cell_type": "markdown",
      "source": [
        "ANOVA (Analysis of Variance) tests the differences in means between multiple groups. Its assumptions include normality, homogeneity of variances, and independence of observations.\n",
        "\n",
        "\n",
        "\n",
        "\n",
        "\n",
        "\n",
        "\n"
      ],
      "metadata": {
        "id": "4coiO2DI8f8Q"
      }
    },
    {
      "cell_type": "markdown",
      "source": [
        "21.  What are the different types of ANOVA tests?"
      ],
      "metadata": {
        "id": "Q0sf03Iu8mV_"
      }
    },
    {
      "cell_type": "markdown",
      "source": [
        "The different types of ANOVA tests include:\n",
        "\n",
        "One-Way ANOVA – Compares means across one factor with multiple levels.\n",
        "\n",
        "Two-Way ANOVA – Examines the interaction between two factors on a single dependent variable.\n",
        "\n",
        "Repeated Measures ANOVA – Used for within-subjects designs where the same subjects are tested multiple times."
      ],
      "metadata": {
        "id": "4ERn43l98r7h"
      }
    },
    {
      "cell_type": "markdown",
      "source": [
        "22.  What is the F-test, and how does it relate to hypothesis testing?"
      ],
      "metadata": {
        "id": "ItsQwSw69DMK"
      }
    },
    {
      "cell_type": "markdown",
      "source": [
        "The F-test is used to compare variances between two or more groups. In hypothesis testing, it assesses if the observed differences are statistically significant, helping reject or fail to reject the null hypothesis.\n",
        "\n",
        "\n",
        "\n",
        "\n",
        "\n",
        "\n",
        "\n"
      ],
      "metadata": {
        "id": "DQ41wgjC9KHi"
      }
    },
    {
      "cell_type": "markdown",
      "source": [
        "##PRACTICAL QUESTIONS:"
      ],
      "metadata": {
        "id": "LK6KOlVI9itA"
      }
    },
    {
      "cell_type": "markdown",
      "source": [
        "1.  Write a Python program to perform a Z-test for comparing a sample mean to a known population mean and\n",
        "interpret the results."
      ],
      "metadata": {
        "id": "NIDxVt7Y1FNm"
      }
    },
    {
      "cell_type": "markdown",
      "source": [
        "Here's a Python program for performing a Z-test:\n",
        "\n"
      ],
      "metadata": {
        "id": "_Hc4YW_G1Ks5"
      }
    },
    {
      "cell_type": "code",
      "source": [
        "import scipy.stats as stats\n",
        "\n",
        "# Inputs\n",
        "sample_mean = 105\n",
        "population_mean = 100\n",
        "std_dev = 15\n",
        "sample_size = 30\n",
        "\n",
        "# Z-test calculation\n",
        "z_score = (sample_mean - population_mean) / (std_dev / (sample_size ** 0.5))\n",
        "p_value = 2 * (1 - stats.norm.cdf(abs(z_score)))\n",
        "\n",
        "# Interpretation\n",
        "alpha = 0.05  # Significance level\n",
        "if p_value < alpha:\n",
        "    print(f\"Reject null hypothesis (p={p_value:.4f}, Z={z_score:.2f})\")\n",
        "else:\n",
        "    print(f\"Fail to reject null hypothesis (p={p_value:.4f}, Z={z_score:.2f})\")\n"
      ],
      "metadata": {
        "colab": {
          "base_uri": "https://localhost:8080/"
        },
        "id": "RcH341e71S55",
        "outputId": "a271ed4b-2d42-4e75-f869-15b876404cc7"
      },
      "execution_count": 1,
      "outputs": [
        {
          "output_type": "stream",
          "name": "stdout",
          "text": [
            "Fail to reject null hypothesis (p=0.0679, Z=1.83)\n"
          ]
        }
      ]
    },
    {
      "cell_type": "markdown",
      "source": [
        "###Interpretation\n",
        "\n",
        "A low p-value (< alpha) indicates significant deviation from the population mean.\n",
        "A high p-value suggests no significant difference.\n",
        "\n",
        "\n",
        "\n",
        "\n",
        "\n",
        "\n"
      ],
      "metadata": {
        "id": "IO9KM5Ak1VF9"
      }
    },
    {
      "cell_type": "markdown",
      "source": [
        "2.  Simulate random data to perform hypothesis testing and calculate the corresponding P-value using Python."
      ],
      "metadata": {
        "id": "8Rk4mB0N1eTa"
      }
    },
    {
      "cell_type": "markdown",
      "source": [
        "Here’s a Python program to simulate random data for hypothesis testing and calculate the corresponding p-value:\n",
        "\n"
      ],
      "metadata": {
        "id": "V_vqRsMb1kvA"
      }
    },
    {
      "cell_type": "code",
      "source": [
        "import numpy as np\n",
        "import scipy.stats as stats\n",
        "\n",
        "# Simulate random data\n",
        "np.random.seed(42)\n",
        "population = np.random.normal(loc=100, scale=15, size=1000)  # Population with mean=100, std=15\n",
        "sample = np.random.choice(population, size=30, replace=False)\n",
        "\n",
        "# Hypothesis testing\n",
        "sample_mean = np.mean(sample)\n",
        "population_mean = 100\n",
        "std_dev = 15\n",
        "sample_size = len(sample)\n",
        "\n",
        "z_score = (sample_mean - population_mean) / (std_dev / np.sqrt(sample_size))\n",
        "p_value = 2 * (1 - stats.norm.cdf(abs(z_score)))\n",
        "\n",
        "print(f\"Sample mean: {sample_mean:.2f}, Z-score: {z_score:.2f}, P-value: {p_value:.4f}\")\n"
      ],
      "metadata": {
        "colab": {
          "base_uri": "https://localhost:8080/"
        },
        "id": "eb6RGWMN1sdo",
        "outputId": "c5991204-3ac9-4c8d-eac8-4c50bc722e96"
      },
      "execution_count": 2,
      "outputs": [
        {
          "output_type": "stream",
          "name": "stdout",
          "text": [
            "Sample mean: 103.18, Z-score: 1.16, P-value: 0.2455\n"
          ]
        }
      ]
    },
    {
      "cell_type": "markdown",
      "source": [
        "Interpret the p-value to assess statistical significance."
      ],
      "metadata": {
        "id": "-gtv6f4e1ukG"
      }
    },
    {
      "cell_type": "markdown",
      "source": [
        "3.  Implement a one-sample Z-test using Python to compare the sample mean with the population mean."
      ],
      "metadata": {
        "id": "XY3mZDz1110t"
      }
    },
    {
      "cell_type": "markdown",
      "source": [
        "Here’s a Python program for implementing a one-sample Z-test:\n",
        "\n"
      ],
      "metadata": {
        "id": "dToDy0i52Ag-"
      }
    },
    {
      "cell_type": "code",
      "source": [
        "import numpy as np\n",
        "import scipy.stats as stats\n",
        "\n",
        "# Inputs\n",
        "population_mean = 30\n",
        "std_dev = 5\n",
        "sample = [28, 32, 30, 29, 31, 33, 27, 35, 30, 29]\n",
        "\n",
        "# Calculate sample statistics\n",
        "sample_mean = np.mean(sample)\n",
        "sample_size = len(sample)\n",
        "\n",
        "# Z-test calculation\n",
        "z_score = (sample_mean - population_mean) / (std_dev / np.sqrt(sample_size))\n",
        "p_value = 2 * (1 - stats.norm.cdf(abs(z_score)))\n",
        "\n",
        "# Output results\n",
        "print(f\"Sample Mean: {sample_mean:.2f}\")\n",
        "print(f\"Z-Score: {z_score:.2f}\")\n",
        "print(f\"P-Value: {p_value:.4f}\")\n",
        "\n",
        "# Interpretation\n",
        "alpha = 0.05\n",
        "if p_value < alpha:\n",
        "    print(\"Reject the null hypothesis: Sample mean differs significantly from the population mean.\")\n",
        "else:\n",
        "    print(\"Fail to reject the null hypothesis: No significant difference.\")\n"
      ],
      "metadata": {
        "colab": {
          "base_uri": "https://localhost:8080/"
        },
        "id": "0HEcXCQl2K8p",
        "outputId": "3f683867-7707-4a11-a0f1-987c436f950e"
      },
      "execution_count": 3,
      "outputs": [
        {
          "output_type": "stream",
          "name": "stdout",
          "text": [
            "Sample Mean: 30.40\n",
            "Z-Score: 0.25\n",
            "P-Value: 0.8003\n",
            "Fail to reject the null hypothesis: No significant difference.\n"
          ]
        }
      ]
    },
    {
      "cell_type": "markdown",
      "source": [
        "This compares the sample mean to the population mean and evaluates statistical significance.\n",
        "\n",
        "\n",
        "\n",
        "\n",
        "\n",
        "\n",
        "\n"
      ],
      "metadata": {
        "id": "z3BHFLqy2R2W"
      }
    },
    {
      "cell_type": "markdown",
      "source": [
        "4.  Perform a two-tailed Z-test using Python and visualize the decision region on a plot."
      ],
      "metadata": {
        "id": "6mEaAnTE2S_T"
      }
    },
    {
      "cell_type": "markdown",
      "source": [
        "Here’s how to perform a two-tailed Z-test and visualize the decision region using Python:"
      ],
      "metadata": {
        "id": "XGQBmZRn2aJt"
      }
    },
    {
      "cell_type": "code",
      "source": [
        "import numpy as np\n",
        "import scipy.stats as stats\n",
        "import matplotlib.pyplot as plt\n",
        "\n",
        "# Inputs\n",
        "population_mean = 50\n",
        "std_dev = 10\n",
        "sample = [52, 48, 55, 49, 50, 53, 51, 47, 56, 54]\n",
        "alpha = 0.05\n",
        "\n",
        "# Sample statistics\n",
        "sample_mean = np.mean(sample)\n",
        "sample_size = len(sample)\n",
        "\n",
        "# Z-test calculation\n",
        "z_score = (sample_mean - population_mean) / (std_dev / np.sqrt(sample_size))\n",
        "p_value = 2 * (1 - stats.norm.cdf(abs(z_score)))\n",
        "\n",
        "# Critical z-values for two-tailed test\n",
        "z_critical = stats.norm.ppf(1 - alpha / 2)\n",
        "\n",
        "# Visualization\n",
        "x = np.linspace(-4, 4, 1000)\n",
        "y = stats.norm.pdf(x)\n",
        "\n",
        "plt.figure(figsize=(8, 5))\n",
        "plt.plot(x, y, label=\"Standard Normal Distribution\")\n",
        "plt.fill_between(x, 0, y, where=(x <= -z_critical) | (x >= z_critical), color='red', alpha=0.5, label=\"Rejection Region\")\n",
        "plt.axvline(z_score, color='blue', linestyle='--', label=f\"Z-Score = {z_score:.2f}\")\n",
        "plt.title(\"Two-Tailed Z-Test Decision Region\")\n",
        "plt.xlabel(\"Z-Score\")\n",
        "plt.ylabel(\"Density\")\n",
        "plt.legend()\n",
        "plt.grid()\n",
        "plt.show()\n",
        "\n",
        "# Output results\n",
        "print(f\"Sample Mean: {sample_mean:.2f}\")\n",
        "print(f\"Z-Score: {z_score:.2f}\")\n",
        "print(f\"P-Value: {p_value:.4f}\")\n",
        "if abs(z_score) > z_critical:\n",
        "    print(\"Reject the null hypothesis: Sample mean differs significantly from the population mean.\")\n",
        "else:\n",
        "    print(\"Fail to reject the null hypothesis: No significant difference.\")\n"
      ],
      "metadata": {
        "colab": {
          "base_uri": "https://localhost:8080/",
          "height": 556
        },
        "id": "QIWdPLI32hRA",
        "outputId": "e4f99689-b252-4a84-ce30-a1282984e2c2"
      },
      "execution_count": 4,
      "outputs": [
        {
          "output_type": "display_data",
          "data": {
            "text/plain": [
              "<Figure size 800x500 with 1 Axes>"
            ],
            "image/png": "[encoded data removed]"
          },
          "metadata": {}
        },
        {
          "output_type": "stream",
          "name": "stdout",
          "text": [
            "Sample Mean: 51.50\n",
            "Z-Score: 0.47\n",
            "P-Value: 0.6353\n",
            "Fail to reject the null hypothesis: No significant difference.\n"
          ]
        }
      ]
    },
    {
      "cell_type": "markdown",
      "source": [
        "Explanation:\n",
        "\n",
        "Z-Test: Calculates the z-score and p-value.\n",
        "\n",
        "Critical Z-Values: Defines the rejection region for the two-tailed test.\n",
        "\n",
        "Visualization: Plots the standard normal distribution with rejection regions and the test statistic.\n",
        "\n",
        "Interpretation: Prints whether to reject the null hypothesis based on the critical z-value."
      ],
      "metadata": {
        "id": "cVAD0gNI2j3N"
      }
    },
    {
      "cell_type": "markdown",
      "source": [
        "5. Create a Python function that calculates and visualizes Type 1 and Type 2 errors during hypothesis testing."
      ],
      "metadata": {
        "id": "nAX1z29k2rtP"
      }
    },
    {
      "cell_type": "markdown",
      "source": [
        "\n",
        "Here's a Python function to calculate and visualize Type I (false positive) and Type II (false negative) errors during hypothesis testing:"
      ],
      "metadata": {
        "id": "ADfBWWrH2xPm"
      }
    },
    {
      "cell_type": "code",
      "source": [
        "import numpy as np\n",
        "import scipy.stats as stats\n",
        "import matplotlib.pyplot as plt\n",
        "\n",
        "def hypothesis_testing_errors(population_mean, sample_mean, std_dev, sample_size, alpha, effect_size):\n",
        "    # Calculate Z-critical for two-tailed test\n",
        "    z_critical = stats.norm.ppf(1 - alpha / 2)\n",
        "\n",
        "    # Calculate standard error\n",
        "    standard_error = std_dev / np.sqrt(sample_size)\n",
        "\n",
        "    # Calculate Type I Error Region\n",
        "    x = np.linspace(population_mean - 4 * standard_error, population_mean + 4 * standard_error, 1000)\n",
        "    y = stats.norm.pdf(x, loc=population_mean, scale=standard_error)\n",
        "\n",
        "    # New mean under alternate hypothesis\n",
        "    new_mean = population_mean + effect_size\n",
        "\n",
        "    # Distribution under alternate hypothesis\n",
        "    y_alt = stats.norm.pdf(x, loc=new_mean, scale=standard_error)\n",
        "\n",
        "    # Calculate Type II Error\n",
        "    beta_region = stats.norm.cdf(z_critical * standard_error - effect_size, loc=0, scale=standard_error) + \\\n",
        "                  (1 - stats.norm.cdf(-z_critical * standard_error - effect_size, loc=0, scale=standard_error))\n",
        "\n",
        "    plt.figure(figsize=(10, 6))\n",
        "\n",
        "    # Plot population (null hypothesis)\n",
        "    plt.plot(x, y, label=\"Null Hypothesis (H0)\", color=\"blue\")\n",
        "    plt.fill_between(x, y, where=(abs(np.abs(y[Critical]<mean>)\n"
      ],
      "metadata": {
        "colab": {
          "base_uri": "https://localhost:8080/",
          "height": 106
        },
        "id": "HZ9sp0R121Va",
        "outputId": "ff1be154-0b5e-446f-e275-c9aa01580d64"
      },
      "execution_count": 6,
      "outputs": [
        {
          "output_type": "error",
          "ename": "SyntaxError",
          "evalue": "invalid syntax (<ipython-input-6-a7b08f9dde11>, line 30)",
          "traceback": [
            "\u001b[0;36m  File \u001b[0;32m\"<ipython-input-6-a7b08f9dde11>\"\u001b[0;36m, line \u001b[0;32m30\u001b[0m\n\u001b[0;31m    plt.fill_between(x, y, where=(abs(np.abs(y[Critical]<mean>)\u001b[0m\n\u001b[0m                                                              ^\u001b[0m\n\u001b[0;31mSyntaxError\u001b[0m\u001b[0;31m:\u001b[0m invalid syntax\n"
          ]
        }
      ]
    },
    {
      "cell_type": "markdown",
      "source": [
        "6. Write a Python program to perform an independent T-test and interpret the results"
      ],
      "metadata": {
        "id": "TE-Lft1T3IjR"
      }
    },
    {
      "cell_type": "markdown",
      "source": [
        "Here's a Python program to perform an independent t-test and interpret the results:\n"
      ],
      "metadata": {
        "id": "7if8UvaB3LnM"
      }
    },
    {
      "cell_type": "code",
      "source": [
        "import numpy as np\n",
        "import scipy.stats as stats\n",
        "\n",
        "# Sample data\n",
        "group1 = [20, 22, 19, 24, 21, 23, 20, 18, 22, 21]\n",
        "group2 = [25, 28, 27, 30, 26, 29, 27, 25, 28, 29]\n",
        "\n",
        "# Perform independent t-test\n",
        "t_stat, p_value = stats.ttest_ind(group1, group2)\n",
        "\n",
        "# Interpretation\n",
        "alpha = 0.05  # Significance level\n",
        "print(f\"T-Statistic: {t_stat:.2f}\")\n",
        "print(f\"P-Value: {p_value:.4f}\")\n",
        "\n",
        "if p_value < alpha:\n",
        "    print(\"Reject the null hypothesis: There is a significant difference between the two groups.\")\n",
        "else:\n",
        "    print(\"Fail to reject the null hypothesis: No significant difference between the two groups.\")\n"
      ],
      "metadata": {
        "colab": {
          "base_uri": "https://localhost:8080/"
        },
        "id": "zj272ez53TNG",
        "outputId": "8481aa23-0d01-44f5-bfdf-91d1df274063"
      },
      "execution_count": 7,
      "outputs": [
        {
          "output_type": "stream",
          "name": "stdout",
          "text": [
            "T-Statistic: -8.08\n",
            "P-Value: 0.0000\n",
            "Reject the null hypothesis: There is a significant difference between the two groups.\n"
          ]
        }
      ]
    },
    {
      "cell_type": "markdown",
      "source": [
        "Explanation\n",
        "\n",
        "Inputs: Two independent samples (group1 and group2).\n",
        "\n",
        "T-Test: stats.ttest_ind performs a two-sample t-test assuming equal variances.\n",
        "\n",
        "Interpretation:\n",
        "\n",
        "Low p-value (< alpha): Significant difference between the groups\n",
        "\n",
        "High p-value: No significant difference.\n",
        "\n",
        "This program provides statistical evidence to determine whether the means of two independent samples are significantly different.\n",
        "\n",
        "\n",
        "\n",
        "\n",
        "\n",
        "\n",
        "\n"
      ],
      "metadata": {
        "id": "oQk8s5B83OsO"
      }
    },
    {
      "cell_type": "markdown",
      "source": [
        "7.  Perform a paired sample T-test using Python and visualize the comparison results."
      ],
      "metadata": {
        "id": "lf0DcV7G3iu1"
      }
    },
    {
      "cell_type": "markdown",
      "source": [
        "Here’s a Python program to perform a paired sample t-test and visualize the results:"
      ],
      "metadata": {
        "id": "sfr_IuMb3qBq"
      }
    },
    {
      "cell_type": "code",
      "source": [
        "import numpy as np\n",
        "import scipy.stats as stats\n",
        "import matplotlib.pyplot as plt\n",
        "\n",
        "# Sample data (before and after)\n",
        "before = [20, 22, 19, 24, 21, 23, 20, 18, 22, 21]\n",
        "after = [25, 28, 27, 30, 26, 29, 27, 25, 28, 29]\n",
        "\n",
        "# Perform paired t-test\n",
        "t_stat, p_value = stats.ttest_rel(before, after)\n",
        "\n",
        "# Visualization\n",
        "x = np.arange(len(before))\n",
        "width = 0.4  # Bar width\n",
        "\n",
        "plt.figure(figsize=(8, 5))\n",
        "plt.bar(x - width / 2, before, width, label=\"Before\", color=\"blue\", alpha=0.7)\n",
        "plt.bar(x + width / 2, after, width, label=\"After\", color=\"green\", alpha=0.7)\n",
        "plt.xticks(x, [f\"Sample {i+1}\" for i in x])\n",
        "plt.xlabel(\"Sample\")\n",
        "plt.ylabel(\"Values\")\n",
        "plt.title(\"Comparison of Before and After Samples\")\n",
        "plt.legend()\n",
        "plt.grid(axis=\"y\", linestyle=\"--\", alpha=0.7)\n",
        "plt.show()\n",
        "\n",
        "# Output results\n",
        "print(f\"T-Statistic: {t_stat:.2f}\")\n",
        "print(f\"P-Value: {p_value:.4f}\")\n",
        "\n",
        "# Interpretation\n",
        "alpha = 0.05\n",
        "if p_value < alpha:\n",
        "    print(\"Reject the null hypothesis: There is a significant difference between the paired samples.\")\n",
        "else:\n",
        "    print(\"Fail to reject the null hypothesis: No significant difference between the paired samples.\")\n"
      ],
      "metadata": {
        "colab": {
          "base_uri": "https://localhost:8080/",
          "height": 539
        },
        "id": "ShPlHpQC3x1l",
        "outputId": "cbfad3f8-832b-42d3-aa36-98efbc0ea578"
      },
      "execution_count": 8,
      "outputs": [
        {
          "output_type": "display_data",
          "data": {
            "text/plain": [
              "<Figure size 800x500 with 1 Axes>"
            ],
            "image/png": "[encoded data removed]"
          },
          "metadata": {}
        },
        {
          "output_type": "stream",
          "name": "stdout",
          "text": [
            "T-Statistic: -18.83\n",
            "P-Value: 0.0000\n",
            "Reject the null hypothesis: There is a significant difference between the paired samples.\n"
          ]
        }
      ]
    },
    {
      "cell_type": "markdown",
      "source": [
        "Explanation\n",
        "\n",
        "Paired T-Test: stats.ttest_rel compares two related samples (e.g., measurements before and after treatment).\n",
        "\n",
        "Visualization: A bar chart compares values in the two conditions (before and after).\n",
        "\n",
        "Interpretation:\n",
        "\n",
        "Low p-value (< alpha): Significant difference between the paired samples.\n",
        "\n",
        "High p-value: No significant difference.\n",
        "\n",
        "This program highlights changes in paired data with statistical analysis and a clear visual representation.\n",
        "\n",
        "\n",
        "\n"
      ],
      "metadata": {
        "id": "hgO3Mron328y"
      }
    },
    {
      "cell_type": "markdown",
      "source": [
        "8.  Simulate data and perform both Z-test and T-test, then compare the results using Python."
      ],
      "metadata": {
        "id": "AR5Tlabz4Eut"
      }
    },
    {
      "cell_type": "markdown",
      "source": [
        "Here's a Python program to simulate data, perform both a Z-test and a t-test, and compare the results:"
      ],
      "metadata": {
        "id": "QQmvhAMz4VGU"
      }
    },
    {
      "cell_type": "code",
      "source": [
        "import numpy as np\n",
        "import scipy.stats as stats\n",
        "\n",
        "# Simulate data\n",
        "np.random.seed(42)\n",
        "population_mean = 50\n",
        "population_std = 10\n",
        "sample_size = 30\n",
        "population = np.random.normal(loc=population_mean, scale=population_std, size=1000)\n",
        "sample = np.random.choice(population, size=sample_size, replace=False)\n",
        "\n",
        "# Calculate sample statistics\n",
        "sample_mean = np.mean(sample)\n",
        "sample_std = np.std(sample, ddof=1)\n",
        "\n",
        "# Z-test\n",
        "z_score = (sample_mean - population_mean) / (population_std / np.sqrt(sample_size))\n",
        "z_p_value = 2 * (1 - stats.norm.cdf(abs(z_score)))\n",
        "\n",
        "# T-test\n",
        "t_stat, t_p_value = stats.ttest_1samp(sample, population_mean)\n",
        "\n",
        "# Results comparison\n",
        "print(f\"Sample Mean: {sample_mean:.2f}\")\n",
        "print(f\"Sample Standard Deviation: {sample_std:.2f}\")\n",
        "print(\"\\nZ-Test Results:\")\n",
        "print(f\"  Z-Score: {z_score:.2f}\")\n",
        "print(f\"  P-Value: {z_p_value:.4f}\")\n",
        "print(\"\\nT-Test Results:\")\n",
        "print(f\"  T-Statistic: {t_stat:.2f}\")\n",
        "print(f\"  P-Value: {t_p_value:.4f}\")\n",
        "\n",
        "# Comparison\n",
        "if z_p_value < 0.05:\n",
        "    z_conclusion = \"Reject the null hypothesis (Z-test)\"\n",
        "else:\n",
        "    z_conclusion = \"Fail to reject the null hypothesis (Z-test)\"\n",
        "\n",
        "if t_p_value < 0.05:\n",
        "    t_conclusion = \"Reject the null hypothesis (T-test)\"\n",
        "else:\n",
        "    t_conclusion = \"Fail to reject the null hypothesis (T-test)\"\n",
        "\n",
        "print(\"\\nComparison of Conclusions:\")\n",
        "print(f\"  Z-Test: {z_conclusion}\"\n"
      ],
      "metadata": {
        "colab": {
          "base_uri": "https://localhost:8080/",
          "height": 106
        },
        "id": "9Y77CgKC4Uan",
        "outputId": "93627b23-2352-4e35-88f4-b3c2c491aee0"
      },
      "execution_count": 9,
      "outputs": [
        {
          "output_type": "error",
          "ename": "SyntaxError",
          "evalue": "incomplete input (<ipython-input-9-236c715d045c>, line 45)",
          "traceback": [
            "\u001b[0;36m  File \u001b[0;32m\"<ipython-input-9-236c715d045c>\"\u001b[0;36m, line \u001b[0;32m45\u001b[0m\n\u001b[0;31m    print(f\"  Z-Test: {z_conclusion}\"\u001b[0m\n\u001b[0m                                     ^\u001b[0m\n\u001b[0;31mSyntaxError\u001b[0m\u001b[0;31m:\u001b[0m incomplete input\n"
          ]
        }
      ]
    },
    {
      "cell_type": "markdown",
      "source": [
        "Explanation\n",
        "\n",
        "Simulated Data:\n",
        "\n",
        "Population with a mean of 50 and standard deviation of 10.\n",
        "A random sample of 30 values is drawn.\n",
        "\n",
        "Z-Test:\n",
        "\n",
        "Assumes the population standard deviation is known.\n",
        "Uses the formula for the z-score.\n",
        "\n",
        "T-Test:\n",
        "\n",
        "Assumes the population standard deviation is unknown.\n",
        "Uses the sample standard deviation.\n",
        "\n",
        "Comparison:\n",
        "\n",
        "Both tests yield a conclusion about rejecting or failing to reject the null hypothesis.\n",
        "\n",
        "Differences may arise when the sample size is small, as the t-test accounts for sample variability.\n",
        "\n",
        "\n",
        "Run the program to observe whether the conclusions differ between the Z-test and the t-test for your simulated data."
      ],
      "metadata": {
        "id": "KUOYyZxu4fml"
      }
    },
    {
      "cell_type": "markdown",
      "source": [
        "9.  Write a Python function to calculate the confidence interval for a sample mean and explain its significance.\n"
      ],
      "metadata": {
        "id": "9pRLTsVx4zZ4"
      }
    },
    {
      "cell_type": "markdown",
      "source": [
        "Here's a Python function to calculate the confidence interval for a sample mean:"
      ],
      "metadata": {
        "id": "TL09q7ge5MQs"
      }
    },
    {
      "cell_type": "code",
      "source": [
        "import numpy as np\n",
        "import scipy.stats as stats\n",
        "\n",
        "def confidence_interval(sample, confidence=0.95):\n",
        "    \"\"\"\n",
        "    Calculate the confidence interval for a sample mean.\n",
        "\n",
        "    Parameters:\n",
        "        sample (list or array): The sample data.\n",
        "        confidence (float): Confidence level (default is 0.95 for 95%).\n",
        "\n",
        "    Returns:\n",
        "        tuple: Lower and upper bounds of the confidence interval.\n",
        "    \"\"\"\n",
        "    sample_mean = np.mean(sample)\n",
        "    sample_std = np.std(sample, ddof=1)\n",
        "    n = len(sample)\n",
        "    margin_of_error = stats.t.ppf((1 + confidence) / 2, df=n-1) * (sample_std / np.sqrt(n))\n",
        "\n",
        "    lower_bound = sample_mean - margin_of_error\n",
        "    upper_bound = sample_mean + margin_of_error\n",
        "\n",
        "    return lower_bound, upper_bound\n",
        "\n",
        "# Example usage\n",
        "sample_data = [20, 22, 19, 24, 21, 23, 20, 18, 22, 21]\n",
        "ci = confidence_interval(sample_data, confidence=0.95)\n",
        "print(f\"95% Confidence Interval: {ci[0]:.2f} to {ci[1]:.2f}\")\n"
      ],
      "metadata": {
        "colab": {
          "base_uri": "https://localhost:8080/"
        },
        "id": "JltuQ2AY5Mxa",
        "outputId": "95a52e1f-4073-43bd-d926-4c720cdebf9a"
      },
      "execution_count": 10,
      "outputs": [
        {
          "output_type": "stream",
          "name": "stdout",
          "text": [
            "95% Confidence Interval: 19.69 to 22.31\n"
          ]
        }
      ]
    },
    {
      "cell_type": "markdown",
      "source": [
        "Explanation\n",
        "\n",
        "Inputs:\n",
        "\n",
        "sample: The dataset for which the confidence interval is calculated.\n",
        "\n",
        "confidence: The confidence level (e.g., 95%).\n",
        "\n",
        "Calculation:\n",
        "\n",
        "Sample Mean: The average of the sample.\n",
        "\n",
        "Standard Error: Sample standard deviation divided by the square root of the sample size.\n",
        "\n",
        "Margin of Error: The critical value from the t-distribution (or Z for known population std) multiplied by the standard error.\n",
        "\n",
        "Output:\n",
        "\n",
        "Returns the lower and upper bounds of the confidence interval.\n",
        "\n",
        "Significance\n",
        "The confidence interval provides a range within which the true population mean is likely to lie with a specified confidence level.\n",
        "\n",
        "A 95% confidence interval means that if we repeatedly sampled and calculated intervals, 95% of them would contain the true population mean.\n",
        "\n",
        "It quantifies uncertainty in the estimate of the population mean.\n",
        "\n",
        "\n",
        "\n",
        "\n",
        "\n",
        "\n"
      ],
      "metadata": {
        "id": "kX63489T5NQo"
      }
    },
    {
      "cell_type": "markdown",
      "source": [
        "10. Write a Python program to calculate the margin of error for a given confidence level using sample data."
      ],
      "metadata": {
        "id": "M7YpBDNB5s6p"
      }
    },
    {
      "cell_type": "markdown",
      "source": [
        "Here’s a Python program to calculate the margin of error for a given confidence level using sample data:"
      ],
      "metadata": {
        "id": "fRHm1T-i525b"
      }
    },
    {
      "cell_type": "code",
      "source": [
        "import numpy as np\n",
        "import scipy.stats as stats\n",
        "\n",
        "def margin_of_error(sample, confidence=0.95):\n",
        "    \"\"\"\n",
        "    Calculate the margin of error for a given confidence level.\n",
        "\n",
        "    Parameters:\n",
        "        sample (list or array): The sample data.\n",
        "        confidence (float): The confidence level (default is 0.95 for 95%).\n",
        "\n",
        "    Returns:\n",
        "        float: The margin of error.\n",
        "    \"\"\"\n",
        "    sample_std = np.std(sample, ddof=1)  # Sample standard deviation\n",
        "    n = len(sample)  # Sample size\n",
        "    critical_value = stats.t.ppf((1 + confidence) / 2, df=n-1)  # t-critical value\n",
        "    standard_error = sample_std / np.sqrt(n)  # Standard error\n",
        "\n",
        "    return critical_value * standard_error\n",
        "\n",
        "# Example usage\n",
        "sample_data = [20, 22, 19, 24, 21, 23, 20, 18, 22, 21]\n",
        "moe = margin_of_error(sample_data, confidence=0.95)\n",
        "print(f\"Margin of Error (95% confidence level): {moe:.2f}\")\n"
      ],
      "metadata": {
        "colab": {
          "base_uri": "https://localhost:8080/"
        },
        "id": "e6YSBRGp56Te",
        "outputId": "eb55080e-80f7-42b4-dcf7-fa5ad54ce91c"
      },
      "execution_count": 11,
      "outputs": [
        {
          "output_type": "stream",
          "name": "stdout",
          "text": [
            "Margin of Error (95% confidence level): 1.31\n"
          ]
        }
      ]
    },
    {
      "cell_type": "markdown",
      "source": [
        "Explanation\n",
        "\n",
        "Inputs:\n",
        "\n",
        "sample: The dataset to calculate the margin of error.\n",
        "\n",
        "confidence: The desired confidence level (default is 95%).\n",
        "\n",
        "Calculations:\n",
        "\n",
        "Sample Standard Deviation: Accounts for the variability in the data.\n",
        "\n",
        "Standard Error: Sample standard deviation divided by the square root of the sample size.\n",
        "\n",
        "Critical Value: stats.t.ppf computes the critical value for the specified confidence level using the t-distribution.\n",
        "\n",
        "Output:\n",
        "\n",
        "The margin of error represents the range around the sample mean where the true population mean is expected to fall, given the confidence level.\n",
        "\n",
        "Usage\n",
        "\n",
        "This is useful in confidence interval calculations and provides an estimate of the uncertainty in sample-based population parameter estimates.\n",
        "\n",
        "\n",
        "\n",
        "\n",
        "\n",
        "\n",
        "\n"
      ],
      "metadata": {
        "id": "f8vY09_358gT"
      }
    },
    {
      "cell_type": "markdown",
      "source": [
        "11.  Implement a Bayesian inference method using Bayes' Theorem in Python and explain the process"
      ],
      "metadata": {
        "id": "CBM8weip6Kry"
      }
    },
    {
      "cell_type": "markdown",
      "source": [
        "Bayesian Inference Using Bayes' Theorem in Python\n",
        "\n",
        "Bayes' Theorem is used to update the probability estimate for a hypothesis as more evidence or information becomes available. Here's a simple implementation using Bayes' Theorem:"
      ],
      "metadata": {
        "id": "cfcGRL996eyo"
      }
    },
    {
      "cell_type": "code",
      "source": [
        "import numpy as np\n",
        "\n",
        "def bayes_theorem(prior, likelihood, evidence):\n",
        "    \"\"\"\n",
        "    Implement Bayes' Theorem for updating probabilities.\n",
        "\n",
        "    Parameters:\n",
        "        prior (float): The prior probability.\n",
        "        likelihood (float): The likelihood of the evidence given the hypothesis.\n",
        "        evidence (float): The total probability of the evidence (denominator).\n",
        "\n",
        "    Returns:\n",
        "        float: The posterior probability.\n",
        "    \"\"\"\n",
        "    posterior = (prior * likelihood) / evidence\n",
        "    return posterior\n",
        "\n",
        "# Example usage\n",
        "prior = 0.5  # Prior probability of the hypothesis\n",
        "likelihood = 0.8  # Probability of evidence given hypothesis\n",
        "evidence = 0.6  # Total probability of evidence (denominator)\n",
        "\n",
        "posterior = bayes_theorem(prior, likelihood, evidence)\n",
        "print(f\"Posterior Probability: {posterior:.4f}\")\n"
      ],
      "metadata": {
        "id": "3alTyHGc6pcY"
      },
      "execution_count": null,
      "outputs": []
    },
    {
      "cell_type": "markdown",
      "source": [
        "Explanation\n",
        "\n",
        "Bayes' Theorem Formula:\n",
        "\n",
        "𝑃\n",
        "(\n",
        "Hypothesis\n",
        "∣\n",
        "Evidence\n",
        ")\n",
        "=\n",
        "𝑃\n",
        "(\n",
        "Evidence\n",
        "∣\n",
        "Hypothesis\n",
        ")\n",
        "×\n",
        "𝑃\n",
        "(\n",
        "Hypothesis\n",
        ")\n",
        "𝑃\n",
        "(\n",
        "Evidence\n",
        ")\n",
        "P(Hypothesis∣Evidence)=\n",
        "P(Evidence)\n",
        "P(Evidence∣Hypothesis)×P(Hypothesis)\n",
        "​\n",
        "\n",
        "Inputs:\n",
        "\n",
        "prior: The initial belief about the hypothesis before seeing evidence.\n",
        "\n",
        "likelihood: The probability of the evidence given the hypothesis.\n",
        "\n",
        "evidence: The total probability of the evidence (denominator), which can be calculated using:\n",
        "\n",
        "𝑃\n",
        "(\n",
        "Evidence\n",
        ")\n",
        "=\n",
        "𝑃\n",
        "(\n",
        "Evidence\n",
        "∣\n",
        "Hypothesis\n",
        ")\n",
        "×\n",
        "𝑃\n",
        "(\n",
        "Hypothesis\n",
        ")\n",
        "+\n",
        "𝑃\n",
        "(\n",
        "Evidence\n",
        "∣\n",
        "¬\n",
        "Hypothesis\n",
        ")\n",
        "×\n",
        "𝑃\n",
        "(\n",
        "¬\n",
        "Hypothesis\n",
        ")\n",
        "P(Evidence)=P(Evidence∣Hypothesis)×P(Hypothesis)+P(Evidence∣¬Hypothesis)×P(¬Hypothesis)\n",
        "Calculation:\n",
        "\n",
        "The posterior is calculated using the formula:\n",
        "𝑃\n",
        "(\n",
        "Hypothesis\n",
        "∣\n",
        "Evidence\n",
        ")\n",
        "=\n",
        "𝑃\n",
        "(\n",
        "Evidence\n",
        "∣\n",
        "Hypothesis\n",
        ")\n",
        "×\n",
        "𝑃\n",
        "(\n",
        "Hypothesis\n",
        ")\n",
        "𝑃\n",
        "(\n",
        "Evidence\n",
        ")\n",
        "P(Hypothesis∣Evidence)=\n",
        "P(Evidence)\n",
        "P(Evidence∣Hypothesis)×P(Hypothesis)\n",
        "​\n",
        "\n",
        "Output:\n",
        "\n",
        "The result is the updated probability (posterior) that the hypothesis is true given the evidence.\n",
        "\n",
        "Process Explanation\n",
        "Prior Probability: Initial assumption or belief about the hypothesis.\n",
        "\n",
        "Likelihood: Probability of observing the evidence given the hypothesis is true.\n",
        "\n",
        "Evidence: The total probability of the evidence considering all possible hypotheses.\n",
        "\n",
        "Posterior Probability: Updated probability after considering new evidence.\n",
        "\n",
        "This approach is widely used in fields like medical diagnosis, decision-making, and machine learning for probabilistic reasoning.\n",
        "\n",
        "\n",
        "\n",
        "\n",
        "\n",
        "\n",
        "\n"
      ],
      "metadata": {
        "id": "N9cf_4ih6pzL"
      }
    },
    {
      "cell_type": "markdown",
      "source": [
        "12.  Perform a Chi-square test for independence between two categorical variables in Python."
      ],
      "metadata": {
        "id": "Shj0lPfV69j4"
      }
    },
    {
      "cell_type": "markdown",
      "source": [
        "Here's a Python program to perform a Chi-square test for independence between two categorical variables:"
      ],
      "metadata": {
        "id": "N4_r7e747Gpf"
      }
    },
    {
      "cell_type": "code",
      "source": [
        "import pandas as pd\n",
        "import scipy.stats as stats\n",
        "\n",
        "# Example data: contingency table\n",
        "data = {\n",
        "    'Category1': ['A', 'B', 'C', 'A', 'B', 'C', 'A', 'B', 'C'],\n",
        "    'Category2': ['X', 'X', 'X', 'Y', 'Y', 'Y', 'Z', 'Z', 'Z']\n",
        "}\n",
        "df = pd.DataFrame(data)\n",
        "\n",
        "# Create a contingency table\n",
        "contingency_table = pd.crosstab(df['Category1'], df['Category2'])\n",
        "\n",
        "# Perform Chi-square test\n",
        "chi2_stat, p_value, dof, expected = stats.chi2_contingency(contingency_table)\n",
        "\n",
        "# Output results\n",
        "print(f\"Chi-square Statistic: {chi2_stat:.2f}\")\n",
        "print(f\"P-Value: {p_value:.4f}\")\n",
        "print(f\"Degrees of Freedom: {dof}\")\n",
        "\n",
        "# Interpretation\n",
        "alpha = 0.05\n",
        "if p_value < alpha:\n",
        "    print(\"Reject the null hypothesis: There is a significant association between Category1 and Category2.\")\n",
        "else:\n",
        "    print(\"Fail to reject the null hypothesis: No significant association between Category1 and Category2.\")\n"
      ],
      "metadata": {
        "id": "WcjOFWwC7K8n"
      },
      "execution_count": null,
      "outputs": []
    },
    {
      "cell_type": "markdown",
      "source": [
        "Explanation\n",
        "\n",
        "Contingency Table:\n",
        "\n",
        "The pd.crosstab() function creates a contingency table, which is a cross-tabulation of two categorical variables.\n",
        "\n",
        "Chi-square Test:\n",
        "\n",
        "stats.chi2_contingency() performs the Chi-square test for independence.\n",
        "'\n",
        "It calculates the chi-square statistic, p-value, degrees of freedom (dof), and expected frequencies.\n",
        "\n",
        "Interpretation:\n",
        "\n",
        "If the p-value is less than the significance level (e.g., 0.05), we reject the null hypothesis, indicating a significant relationship between the two categorical variables.\n",
        "\n",
        "If the p-value is greater than the significance level, we fail to reject the null hypothesis.\n",
        "\n",
        "This test helps determine if two categorical variables are associated with one another.\n",
        "\n",
        "\n",
        "\n",
        "\n",
        "\n",
        "\n",
        "\n"
      ],
      "metadata": {
        "id": "QJPeVoWO7TkS"
      }
    },
    {
      "cell_type": "markdown",
      "source": [
        "13.  Write a Python program to calculate the expected frequencies for a Chi-square test based on observed\n",
        "data."
      ],
      "metadata": {
        "id": "pQJ5SzTj7e1B"
      }
    },
    {
      "cell_type": "markdown",
      "source": [
        "Here's a Python program to calculate the expected frequencies for a Chi-square test based on observed data:"
      ],
      "metadata": {
        "id": "n7iCgc0x7uH-"
      }
    },
    {
      "cell_type": "code",
      "source": [
        "import numpy as np\n",
        "\n",
        "def expected_frequencies(observed_table):\n",
        "    \"\"\"\n",
        "    Calculate expected frequencies for a Chi-square test.\n",
        "\n",
        "    Parameters:\n",
        "        observed_table (numpy.ndarray): Contingency table (observed frequencies).\n",
        "\n",
        "    Returns:\n",
        "        numpy.ndarray: Expected frequencies.\n",
        "    \"\"\"\n",
        "    row_sums = observed_table.sum(axis=1)\n",
        "    col_sums = observed_table.sum(axis=0)\n",
        "    total_sum = observed_table.sum()\n",
        "\n",
        "    expected = np.outer(row_sums, col_sums) / total_sum\n",
        "    return expected\n",
        "\n",
        "# Example data: contingency table\n",
        "observed_table = np.array([[50, 30, 20],\n",
        "                           [40, 20, 30],\n",
        "                           [30, 40, 50]])\n",
        "\n",
        "# Calculate expected frequencies\n",
        "expected_table = expected_frequencies(observed_table)\n",
        "\n",
        "# Output results\n",
        "print(f\"Observed Table:\\n{observed_table}\")\n",
        "print(f\"Expected Table:\\n{expected_table}\")\n",
        "\n"
      ],
      "metadata": {
        "colab": {
          "base_uri": "https://localhost:8080/"
        },
        "id": "6pr43hHc7zPh",
        "outputId": "f5e6e1db-0f48-45ea-f3cf-1498c37f98e5"
      },
      "execution_count": 12,
      "outputs": [
        {
          "output_type": "stream",
          "name": "stdout",
          "text": [
            "Observed Table:\n",
            "[[50 30 20]\n",
            " [40 20 30]\n",
            " [30 40 50]]\n",
            "Expected Table:\n",
            "[[38.70967742 29.03225806 32.25806452]\n",
            " [34.83870968 26.12903226 29.03225806]\n",
            " [46.4516129  34.83870968 38.70967742]]\n"
          ]
        }
      ]
    },
    {
      "cell_type": "markdown",
      "source": [
        "Explanation\n",
        "\n",
        "Inputs:\n",
        "\n",
        "\n",
        "observed_table: A contingency table containing observed frequencies.\n",
        "\n",
        "Calculation:\n",
        "\n",
        "Row Sums: Sum of frequencies within each row.\n",
        "\n",
        "Column Sums: Sum of frequencies within each column.\n",
        "\n",
        "Total Sum: Sum of all frequencies.\n",
        "\n",
        "Expected Frequencies: Calculated :\n",
        "\n",
        "Expected\n",
        "=\n",
        "Row Sum\n",
        "×\n",
        "Column Sum\n",
        "Total Sum\n",
        "Expected=\n",
        "Total Sum\n",
        "Row Sum×Column Sum\n",
        "​\n",
        "\n",
        "Output:\n",
        "\n",
        "Returns the expected frequencies for each cell in the contingency table.\n",
        "\n",
        "This is essential for performing a Chi-square test, as expected frequencies are compared against observed frequencies to test for independence between categorical variables.\n",
        "\n",
        "\n",
        "\n",
        "\n",
        "\n",
        "\n",
        "\n"
      ],
      "metadata": {
        "id": "Nd0TeIsy79Na"
      }
    },
    {
      "cell_type": "markdown",
      "source": [
        "14.  Perform a goodness-of-fit test using Python to compare the observed data to an expected distribution."
      ],
      "metadata": {
        "id": "RKMKDdfV8LUg"
      }
    },
    {
      "cell_type": "markdown",
      "source": [
        "Here's a Python program to perform a goodness-of-fit test (Chi-square test) using observed data compared to an expected distribution:"
      ],
      "metadata": {
        "id": "r7ngZ4bv8Qu9"
      }
    },
    {
      "cell_type": "code",
      "source": [
        "import numpy as np\n",
        "import scipy.stats as stats\n",
        "\n",
        "def goodness_of_fit(observed, expected):\n",
        "    \"\"\"\n",
        "    Perform a Chi-square goodness-of-fit test.\n",
        "\n",
        "    Parameters:\n",
        "        observed (numpy.ndarray): Observed frequencies.\n",
        "        expected (numpy.ndarray): Expected frequencies based on the hypothesized distribution.\n",
        "\n",
        "    Returns:\n",
        "        float: Chi-square statistic.\n",
        "        float: p-value.\n",
        "    \"\"\"\n",
        "    chi2_stat, p_value = stats.chisquare(observed, f_exp=expected)\n",
        "    return chi2_stat, p_value\n",
        "\n",
        "# Example data\n",
        "observed = np.array([30, 50, 20])\n",
        "expected = np.array([40, 40, 40])\n",
        "\n",
        "# Perform goodness-of-fit test\n",
        "chi2_stat, p_value = goodness_of_fit(observed, expected)\n",
        "\n",
        "# Output results\n",
        "print(f\"Chi-square Statistic: {chi2_stat:.2f}\")\n",
        "print(f\"P-Value: {p_value:.4f}\")\n",
        "\n",
        "# Interpretation\n",
        "alpha = 0.05\n",
        "if p_value < alpha:\n",
        "    print(\"Reject the null hypothesis: The observed data does not fit the expected distribution.\")\n",
        "else:\n",
        "    print(\"Fail to reject the null hypothesis: The observed data fits the expected distribution.\")\n"
      ],
      "metadata": {
        "colab": {
          "base_uri": "https://localhost:8080/",
          "height": 391
        },
        "id": "m_cV79KD8QDW",
        "outputId": "d68344d6-8e0f-48af-bdb2-760f348e8d44"
      },
      "execution_count": 13,
      "outputs": [
        {
          "output_type": "error",
          "ename": "ValueError",
          "evalue": "For each axis slice, the sum of the observed frequencies must agree with the sum of the expected frequencies to a relative tolerance of 1e-08, but the percent differences are:\n0.2",
          "traceback": [
            "\u001b[0;31m---------------------------------------------------------------------------\u001b[0m",
            "\u001b[0;31mValueError\u001b[0m                                Traceback (most recent call last)",
            "\u001b[0;32m<ipython-input-13-1b106a7ba998>\u001b[0m in \u001b[0;36m<cell line: 0>\u001b[0;34m()\u001b[0m\n\u001b[1;32m     22\u001b[0m \u001b[0;34m\u001b[0m\u001b[0m\n\u001b[1;32m     23\u001b[0m \u001b[0;31m# Perform goodness-of-fit test\u001b[0m\u001b[0;34m\u001b[0m\u001b[0;34m\u001b[0m\u001b[0m\n\u001b[0;32m---> 24\u001b[0;31m \u001b[0mchi2_stat\u001b[0m\u001b[0;34m,\u001b[0m \u001b[0mp_value\u001b[0m \u001b[0;34m=\u001b[0m \u001b[0mgoodness_of_fit\u001b[0m\u001b[0;34m(\u001b[0m\u001b[0mobserved\u001b[0m\u001b[0;34m,\u001b[0m \u001b[0mexpected\u001b[0m\u001b[0;34m)\u001b[0m\u001b[0;34m\u001b[0m\u001b[0;34m\u001b[0m\u001b[0m\n\u001b[0m\u001b[1;32m     25\u001b[0m \u001b[0;34m\u001b[0m\u001b[0m\n\u001b[1;32m     26\u001b[0m \u001b[0;31m# Output results\u001b[0m\u001b[0;34m\u001b[0m\u001b[0;34m\u001b[0m\u001b[0m\n",
            "\u001b[0;32m<ipython-input-13-1b106a7ba998>\u001b[0m in \u001b[0;36mgoodness_of_fit\u001b[0;34m(observed, expected)\u001b[0m\n\u001b[1;32m     14\u001b[0m         \u001b[0mfloat\u001b[0m\u001b[0;34m:\u001b[0m \u001b[0mp\u001b[0m\u001b[0;34m-\u001b[0m\u001b[0mvalue\u001b[0m\u001b[0;34m.\u001b[0m\u001b[0;34m\u001b[0m\u001b[0;34m\u001b[0m\u001b[0m\n\u001b[1;32m     15\u001b[0m     \"\"\"\n\u001b[0;32m---> 16\u001b[0;31m     \u001b[0mchi2_stat\u001b[0m\u001b[0;34m,\u001b[0m \u001b[0mp_value\u001b[0m \u001b[0;34m=\u001b[0m \u001b[0mstats\u001b[0m\u001b[0;34m.\u001b[0m\u001b[0mchisquare\u001b[0m\u001b[0;34m(\u001b[0m\u001b[0mobserved\u001b[0m\u001b[0;34m,\u001b[0m \u001b[0mf_exp\u001b[0m\u001b[0;34m=\u001b[0m\u001b[0mexpected\u001b[0m\u001b[0;34m)\u001b[0m\u001b[0;34m\u001b[0m\u001b[0;34m\u001b[0m\u001b[0m\n\u001b[0m\u001b[1;32m     17\u001b[0m     \u001b[0;32mreturn\u001b[0m \u001b[0mchi2_stat\u001b[0m\u001b[0;34m,\u001b[0m \u001b[0mp_value\u001b[0m\u001b[0;34m\u001b[0m\u001b[0;34m\u001b[0m\u001b[0m\n\u001b[1;32m     18\u001b[0m \u001b[0;34m\u001b[0m\u001b[0m\n",
            "\u001b[0;32m/usr/local/lib/python3.11/dist-packages/scipy/stats/_stats_py.py\u001b[0m in \u001b[0;36mchisquare\u001b[0;34m(f_obs, f_exp, ddof, axis)\u001b[0m\n\u001b[1;32m   8173\u001b[0m \u001b[0;34m\u001b[0m\u001b[0m\n\u001b[1;32m   8174\u001b[0m     \"\"\"  # noqa: E501\n\u001b[0;32m-> 8175\u001b[0;31m     return power_divergence(f_obs, f_exp=f_exp, ddof=ddof, axis=axis,\n\u001b[0m\u001b[1;32m   8176\u001b[0m                             lambda_=\"pearson\")\n\u001b[1;32m   8177\u001b[0m \u001b[0;34m\u001b[0m\u001b[0m\n",
            "\u001b[0;32m/usr/local/lib/python3.11/dist-packages/scipy/stats/_stats_py.py\u001b[0m in \u001b[0;36mpower_divergence\u001b[0;34m(f_obs, f_exp, ddof, axis, lambda_)\u001b[0m\n\u001b[1;32m   7970\u001b[0m                    \u001b[0;34mf\"of {rtol}, but the percent differences are:\\n\"\u001b[0m\u001b[0;34m\u001b[0m\u001b[0;34m\u001b[0m\u001b[0m\n\u001b[1;32m   7971\u001b[0m                    f\"{relative_diff}\")\n\u001b[0;32m-> 7972\u001b[0;31m             \u001b[0;32mraise\u001b[0m \u001b[0mValueError\u001b[0m\u001b[0;34m(\u001b[0m\u001b[0mmsg\u001b[0m\u001b[0;34m)\u001b[0m\u001b[0;34m\u001b[0m\u001b[0;34m\u001b[0m\u001b[0m\n\u001b[0m\u001b[1;32m   7973\u001b[0m \u001b[0;34m\u001b[0m\u001b[0m\n\u001b[1;32m   7974\u001b[0m     \u001b[0;32melse\u001b[0m\u001b[0;34m:\u001b[0m\u001b[0;34m\u001b[0m\u001b[0;34m\u001b[0m\u001b[0m\n",
            "\u001b[0;31mValueError\u001b[0m: For each axis slice, the sum of the observed frequencies must agree with the sum of the expected frequencies to a relative tolerance of 1e-08, but the percent differences are:\n0.2"
          ]
        }
      ]
    },
    {
      "cell_type": "markdown",
      "source": [
        "Explanation\n",
        "\n",
        "Inputs:\n",
        "\n",
        "observed: Array of observed frequencies.\n",
        "\n",
        "expected: Array of expected frequencies based on a hypothesized distribution.\n",
        "Chi-square Goodness-of-Fit Test:\n",
        "\n",
        "\n",
        "stats.chisquare() calculates the Chi-square statistic and p-value.\n",
        "Calculation:\n",
        "\n",
        "\n",
        "The Chi-square statistic compares the difference between observed and expected frequencies:\n",
        "\n",
        "𝜒\n",
        "2\n",
        "=\n",
        "∑\n",
        "(\n",
        "(\n",
        "𝑂\n",
        "−\n",
        "𝐸\n",
        ")\n",
        "2\n",
        "𝐸\n",
        ")\n",
        "χ\n",
        "2\n",
        " =∑(\n",
        "E\n",
        "(O−E)\n",
        "2\n",
        "\n",
        "​\n",
        " )\n",
        "Where:\n",
        "\n",
        "𝑂\n",
        "O is the observed frequency\n",
        "𝐸\n",
        "E is the expected frequency\n",
        "\n",
        "Output:\n",
        "\n",
        "\n",
        "Chi-square statistic and p-value are provided.\n",
        "\n",
        "Interpretation compares the p-value with a significance level (e.g., 0.05).\n",
        "\n",
        "This test assesses how well the observed data fits a given expected distribution.\n",
        "\n",
        "\n",
        "\n",
        "\n",
        "\n",
        "\n",
        "\n"
      ],
      "metadata": {
        "id": "azbALySM8yKZ"
      }
    },
    {
      "cell_type": "markdown",
      "source": [
        "15.  Create a Python script to simulate and visualize the Chi-square distribution and discuss its characteristics."
      ],
      "metadata": {
        "id": "-eV1ZCre9idT"
      }
    },
    {
      "cell_type": "markdown",
      "source": [
        "Here's a Python script to simulate and visualize the Chi-square distribution:"
      ],
      "metadata": {
        "id": "LJnurFyq-Cf1"
      }
    },
    {
      "cell_type": "code",
      "source": [
        "import numpy as np\n",
        "import matplotlib.pyplot as plt\n",
        "import scipy.stats as stats\n",
        "\n",
        "# Parameters\n",
        "degrees_of_freedom = 5\n",
        "x = np.linspace(0, 20, 1000)\n",
        "\n",
        "# Chi-square distribution\n",
        "chi2_pdf = stats.chi2.pdf(x, degrees_of_freedom)\n",
        "\n",
        "# Visualization\n",
        "plt.plot(x, chi2_pdf, label=f'χ²(df={degrees_of_freedom})')\n",
        "plt.title(f'Chi-square Distribution (df={degrees_of_freedom})')\n",
        "plt.xlabel('X')\n",
        "plt.ylabel('Density')\n",
        "plt.legend()\n",
        "plt.show()\n"
      ],
      "metadata": {
        "colab": {
          "base_uri": "https://localhost:8080/",
          "height": 472
        },
        "id": "L6aKPK_d-G8s",
        "outputId": "e7395227-711f-4c2f-b0d2-e71f509f8cf9"
      },
      "execution_count": 14,
      "outputs": [
        {
          "output_type": "display_data",
          "data": {
            "text/plain": [
              "<Figure size 640x480 with 1 Axes>"
            ],
            "image/png": "[encoded data removed]"
          },
          "metadata": {}
        }
      ]
    },
    {
      "cell_type": "markdown",
      "source": [
        "Characteristics of Chi-square Distribution:\n",
        "\n",
        "Shape: Right-skewed and asymptotically approaches zero.\n",
        "\n",
        "Degrees of Freedom: Dictates the spread and shape.\n",
        "\n",
        "Skewness: Higher degrees of freedom result in a more bell-shaped curve.\n",
        "\n",
        "\n",
        "\n",
        "\n",
        "\n",
        "\n"
      ],
      "metadata": {
        "id": "TNaYump1-LiT"
      }
    },
    {
      "cell_type": "markdown",
      "source": [
        "16. Implement an F-test using Python to compare the variances of two random samples."
      ],
      "metadata": {
        "id": "iHDQNc67-Oxd"
      }
    },
    {
      "cell_type": "markdown",
      "source": [
        "\n",
        "Here's a Python implementation of an F-test to compare the variances of two random samples:"
      ],
      "metadata": {
        "id": "U4BEQBHJ-iXU"
      }
    },
    {
      "cell_type": "code",
      "source": [
        "import numpy as np\n",
        "import scipy.stats as stats\n",
        "\n",
        "def f_test(sample1, sample2):\n",
        "    var1 = np.var(sample1, ddof=1)\n",
        "    var2 = np.var(sample2, ddof=1)\n",
        "    f_stat = var1 / var2\n",
        "    df1 = len(sample1) - 1\n",
        "    df2 = len(sample2) - 1\n",
        "    p_value = stats.f.sf(f_stat, df1, df2)\n",
        "    return f_stat, p_value\n",
        "\n",
        "# Example\n",
        "sample1 = [10, 12, 14, 16, 18, 20]\n",
        "sample2 = [15, 17, 19, 21, 23, 25]\n",
        "f_stat, p_value = f_test(sample1, sample2)\n",
        "\n",
        "print(f\"F-Statistic: {f_stat:.2f}\")\n",
        "print(f\"P-Value: {p_value:.4f}\")\n"
      ],
      "metadata": {
        "colab": {
          "base_uri": "https://localhost:8080/"
        },
        "id": "z-kgTxWZ-kQE",
        "outputId": "92a95798-209a-4638-e9c6-89cfaf2d164c"
      },
      "execution_count": 15,
      "outputs": [
        {
          "output_type": "stream",
          "name": "stdout",
          "text": [
            "F-Statistic: 1.00\n",
            "P-Value: 0.5000\n"
          ]
        }
      ]
    },
    {
      "cell_type": "markdown",
      "source": [
        "17.  Write a Python program to perform an ANOVA test to compare means between multiple groups and\n",
        "interpret the results."
      ],
      "metadata": {
        "id": "AQ51dac0-mjW"
      }
    },
    {
      "cell_type": "markdown",
      "source": [
        "Here's a Python program to perform an ANOVA test and interpret the results:"
      ],
      "metadata": {
        "id": "99GzwxEq-ty9"
      }
    },
    {
      "cell_type": "code",
      "source": [
        "import numpy as np\n",
        "import scipy.stats as stats\n",
        "\n",
        "def anova_test(*samples):\n",
        "    f_stat, p_value = stats.f_oneway(*samples)\n",
        "    return f_stat, p_value\n",
        "\n",
        "# Example usage\n",
        "group1 = [10, 12, 14, 16]\n",
        "group2 = [15, 17, 19, 21]\n",
        "group3 = [20, 22, 24, 26]\n",
        "\n",
        "f_stat, p_value = anova_test(group1, group2, group3)\n",
        "\n",
        "# Output results\n",
        "print(f\"F-Statistic: {f_stat:.2f}\")\n",
        "print(f\"P-Value: {p_value:.4f}\")\n",
        "\n",
        "# Interpretation\n",
        "alpha = 0.05\n",
        "if p_value < alpha:\n",
        "    print(\"Reject the null hypothesis: There are significant differences between groups.\")\n",
        "else:\n",
        "    print(\"Fail to reject the null hypothesis: No significant differences between groups.\")\n"
      ],
      "metadata": {
        "colab": {
          "base_uri": "https://localhost:8080/"
        },
        "id": "vay7iPG9-zE6",
        "outputId": "0593f896-66c6-4c63-b4ec-27a4f5c55d82"
      },
      "execution_count": 16,
      "outputs": [
        {
          "output_type": "stream",
          "name": "stdout",
          "text": [
            "F-Statistic: 15.00\n",
            "P-Value: 0.0014\n",
            "Reject the null hypothesis: There are significant differences between groups.\n"
          ]
        }
      ]
    },
    {
      "cell_type": "markdown",
      "source": [
        "18.  Perform a one-way ANOVA test using Python to compare the means of different groups and plot the results."
      ],
      "metadata": {
        "id": "6XBJ0-R8-2D5"
      }
    },
    {
      "cell_type": "markdown",
      "source": [
        "Here's a Python program to perform a one-way ANOVA test and visualize the results:\n",
        "\n"
      ],
      "metadata": {
        "id": "wgOoTxcN-8K_"
      }
    },
    {
      "cell_type": "code",
      "source": [
        "import numpy as np\n",
        "import scipy.stats as stats\n",
        "import matplotlib.pyplot as plt\n",
        "\n",
        "def anova_test(*samples):\n",
        "    f_stat, p_value = stats.f_oneway(*samples)\n",
        "    return f_stat, p_value\n",
        "\n",
        "# Example groups\n",
        "group1 = [10, 12, 14, 16]\n",
        "group2 = [15, 17, 19, 21]\n",
        "group3 = [20, 22, 24, 26]\n",
        "\n",
        "# Perform ANOVA\n",
        "f_stat, p_value = anova_test(group1, group2, group3)\n",
        "\n",
        "# Output results\n",
        "print(f\"F-Statistic: {f_stat:.2f}\")\n",
        "print(f\"P-Value: {p_value:.4f}\")\n",
        "\n",
        "# Plot results\n",
        "plt.boxplot([group1, group2, group3], labels=['Group 1', 'Group 2', 'Group 3'])\n",
        "plt.title('One-Way ANOVA Test')\n",
        "plt.ylabel('Values')\n",
        "plt.show()\n",
        "\n",
        "# Interpretation\n",
        "alpha = 0.05\n",
        "if p_value < alpha:\n",
        "    print(\"Reject the null hypothesis: There are significant differences between groups.\")\n",
        "else:\n",
        "    print(\"Fail to reject the null hypothesis: No significant differences between groups.\")\n"
      ],
      "metadata": {
        "colab": {
          "base_uri": "https://localhost:8080/",
          "height": 559
        },
        "id": "0TS7oS2Y_Cm0",
        "outputId": "fd3b0a2c-6017-4f8c-a9ca-110e74ce11d3"
      },
      "execution_count": 17,
      "outputs": [
        {
          "output_type": "stream",
          "name": "stdout",
          "text": [
            "F-Statistic: 15.00\n",
            "P-Value: 0.0014\n"
          ]
        },
        {
          "output_type": "stream",
          "name": "stderr",
          "text": [
            "<ipython-input-17-82724529e94c>:22: MatplotlibDeprecationWarning: The 'labels' parameter of boxplot() has been renamed 'tick_labels' since Matplotlib 3.9; support for the old name will be dropped in 3.11.\n",
            "  plt.boxplot([group1, group2, group3], labels=['Group 1', 'Group 2', 'Group 3'])\n"
          ]
        },
        {
          "output_type": "display_data",
          "data": {
            "text/plain": [
              "<Figure size 640x480 with 1 Axes>"
            ],
            "image/png": "[encoded data removed]"
          },
          "metadata": {}
        },
        {
          "output_type": "stream",
          "name": "stdout",
          "text": [
            "Reject the null hypothesis: There are significant differences between groups.\n"
          ]
        }
      ]
    },
    {
      "cell_type": "markdown",
      "source": [
        "19.  Write a Python function to check the assumptions (normality, independence, and equal variance) for ANOVA."
      ],
      "metadata": {
        "id": "EgOESnbd_Gbf"
      }
    },
    {
      "cell_type": "markdown",
      "source": [
        "Here's a Python function to check assumptions for ANOVA:"
      ],
      "metadata": {
        "id": "HarcwzGM_Oey"
      }
    },
    {
      "cell_type": "code",
      "source": [
        "import numpy as np\n",
        "import scipy.stats as stats\n",
        "\n",
        "def anova_assumptions(*samples):\n",
        "    normality_results = [stats.shapiro(sample).pvalue > 0.05 for sample in samples]\n",
        "    independence_results = True  # Assumed as independence is generally implied for randomly sampled data\n",
        "    equal_variance_results = stats.bartlett(*samples).pvalue > 0.05\n",
        "\n",
        "    return normality_results, independence_results, equal_variance_results\n",
        "\n",
        "# Example usage\n",
        "group1 = [10, 12, 14, 16]\n",
        "group2 = [15, 17, 19, 21]\n",
        "group3 = [20, 22, 24, 26]\n",
        "\n",
        "assumptions = anova_assumptions(group1, group2, group3)\n",
        "print(\"Normality check:\", assumptions[0])\n",
        "print(\"Independence check:\", assumptions[1])\n",
        "print(\"Equal variance check:\", assumptions[2])\n"
      ],
      "metadata": {
        "colab": {
          "base_uri": "https://localhost:8080/"
        },
        "id": "dcPnO-HY_qPT",
        "outputId": "77214485-e537-4903-a88e-7223dbbb1ec3"
      },
      "execution_count": 18,
      "outputs": [
        {
          "output_type": "stream",
          "name": "stdout",
          "text": [
            "Normality check: [True, True, True]\n",
            "Independence check: True\n",
            "Equal variance check: True\n"
          ]
        }
      ]
    },
    {
      "cell_type": "markdown",
      "source": [
        "20.  Perform a two-way ANOVA test using Python to study the interaction between two factors and visualize the\n",
        "results."
      ],
      "metadata": {
        "id": "BE-grHW2_sVb"
      }
    },
    {
      "cell_type": "markdown",
      "source": [
        "Here's a Python program to perform a two-way ANOVA test and visualize the results:"
      ],
      "metadata": {
        "id": "ISzEtjTX_1C0"
      }
    },
    {
      "cell_type": "code",
      "source": [
        "import pandas as pd\n",
        "import scipy.stats as stats\n",
        "import seaborn as sns\n",
        "import matplotlib.pyplot as plt\n",
        "\n",
        "# Example data\n",
        "data = {\n",
        "    'Factor1': ['A', 'A', 'A', 'B', 'B', 'B', 'C', 'C', 'C'],\n",
        "    'Factor2': ['X', 'Y', 'Z', 'X', 'Y', 'Z', 'X', 'Y', 'Z'],\n",
        "    'Values': [10, 15, 14, 20, 18, 19, 25, 22, 24]\n",
        "}\n",
        "df = pd.DataFrame(data)\n",
        "\n",
        "# Perform two-way ANOVA\n",
        "anova_results = stats.f_oneway(df[df['Factor1']=='A']['Values'], df[df['Factor1']=='B']['Values'], df[df['Factor1']=='C']['Values'])\n",
        "\n",
        "# Output results\n",
        "print(f\"F-Statistic: {anova_results.statistic:.2f}\")\n",
        "print(f\"P-Value: {anova_results.pvalue:.4f}\")\n",
        "\n",
        "# Visualization\n",
        "sns.boxplot(x='Factor1', y='Values', hue='Factor2', data=df)\n",
        "plt.title('Two-Way ANOVA Test')\n",
        "plt.show()\n",
        "\n",
        "# Interpretation\n",
        "alpha = 0.05\n",
        "if anova_results.pvalue < alpha:\n",
        "    print(\"Reject the null hypothesis: There are significant effects of Factor1 or Factor2, or their interaction.\")\n",
        "else:\n",
        "    print(\"Fail to reject the null hypothesis: No significant interaction or individual effects.\")\n"
      ],
      "metadata": {
        "colab": {
          "base_uri": "https://localhost:8080/",
          "height": 524
        },
        "id": "NvtbtR3y_74s",
        "outputId": "5d171456-6914-464b-92e2-1c51c4e424e0"
      },
      "execution_count": 19,
      "outputs": [
        {
          "output_type": "stream",
          "name": "stdout",
          "text": [
            "F-Statistic: 24.90\n",
            "P-Value: 0.0012\n"
          ]
        },
        {
          "output_type": "display_data",
          "data": {
            "text/plain": [
              "<Figure size 640x480 with 1 Axes>"
            ],
            "image/png": "[encoded data removed]"
          },
          "metadata": {}
        },
        {
          "output_type": "stream",
          "name": "stdout",
          "text": [
            "Reject the null hypothesis: There are significant effects of Factor1 or Factor2, or their interaction.\n"
          ]
        }
      ]
    },
    {
      "cell_type": "markdown",
      "source": [
        "21. Write a Python program to visualize the F-distribution and discuss its use in hypothesis testing."
      ],
      "metadata": {
        "id": "8mZ6eR-I__DU"
      }
    },
    {
      "cell_type": "markdown",
      "source": [
        "Here's a Python program to visualize the F-distribution and discuss its use in hypothesis testing:"
      ],
      "metadata": {
        "id": "CQg5QNqLAOJG"
      }
    },
    {
      "cell_type": "code",
      "source": [
        "import numpy as np\n",
        "import scipy.stats as stats\n",
        "import matplotlib.pyplot as plt\n",
        "\n",
        "# Parameters\n",
        "df1 = 5  # Degrees of freedom numerator\n",
        "df2 = 10  # Degrees of freedom denominator\n",
        "x = np.linspace(0, 5, 1000)\n",
        "\n",
        "# F-distribution\n",
        "f_pdf = stats.f.pdf(x, df1, df2)\n",
        "\n",
        "# Visualization\n",
        "plt.plot(x, f_pdf, label=f'F(df1={df1}, df2={df2})')\n",
        "plt.title('F-Distribution')\n",
        "plt.xlabel('F-value')\n",
        "plt.ylabel('Probability Density')\n",
        "plt.legend()\n",
        "plt.show()\n",
        "\n",
        "# Discussion\n",
        "The F-distribution is used in hypothesis testing to compare variances between two or more groups, commonly used in ANOVA tests.\n"
      ],
      "metadata": {
        "colab": {
          "base_uri": "https://localhost:8080/",
          "height": 106
        },
        "id": "UNFV2ctyAO-6",
        "outputId": "6185f334-a4b0-4680-afe7-0b415f09f060"
      },
      "execution_count": 21,
      "outputs": [
        {
          "output_type": "error",
          "ename": "SyntaxError",
          "evalue": "invalid syntax (<ipython-input-21-ffd0cc8c0a1b>, line 22)",
          "traceback": [
            "\u001b[0;36m  File \u001b[0;32m\"<ipython-input-21-ffd0cc8c0a1b>\"\u001b[0;36m, line \u001b[0;32m22\u001b[0m\n\u001b[0;31m    The F-distribution is used in hypothesis testing to compare variances between two or more groups, commonly used in ANOVA tests.\u001b[0m\n\u001b[0m        ^\u001b[0m\n\u001b[0;31mSyntaxError\u001b[0m\u001b[0;31m:\u001b[0m invalid syntax\n"
          ]
        }
      ]
    },
    {
      "cell_type": "markdown",
      "source": [
        "22.  Perform a one-way ANOVA test in Python and visualize the results with boxplots to compare group means."
      ],
      "metadata": {
        "id": "HrKJDfB0Ae5z"
      }
    },
    {
      "cell_type": "markdown",
      "source": [
        "Here's a Python program to perform a one-way ANOVA test and visualize the results with boxplots:"
      ],
      "metadata": {
        "id": "tCApLYhEAjXL"
      }
    },
    {
      "cell_type": "code",
      "source": [
        "import numpy as np\n",
        "import scipy.stats as stats\n",
        "import matplotlib.pyplot as plt\n",
        "\n",
        "# Example groups\n",
        "group1 = [10, 12, 14, 16]\n",
        "group2 = [15, 17, 19, 21]\n",
        "group3 = [20, 22, 24, 26]\n",
        "\n",
        "# Perform ANOVA\n",
        "f_stat, p_value = stats.f_oneway(group1, group2, group3)\n",
        "\n",
        "# Output results\n",
        "print(f\"F-Statistic: {f_stat:.2f}\")\n",
        "print(f\"P-Value: {p_value:.4f}\")\n",
        "\n",
        "# Visualization\n",
        "plt.boxplot([group1, group2, group3], labels=['Group 1', 'Group 2', 'Group 3'])\n",
        "plt.title('One-Way ANOVA Test')\n",
        "plt.ylabel('Values')\n",
        "plt.show()\n",
        "\n",
        "# Interpretation\n",
        "alpha = 0.05\n",
        "if p_value < alpha:\n",
        "    print(\"Reject the null hypothesis: Significant differences between groups.\")\n",
        "else:\n",
        "    print(\"Fail to reject the null hypothesis: No significant differences between groups.\")\n"
      ],
      "metadata": {
        "colab": {
          "base_uri": "https://localhost:8080/",
          "height": 559
        },
        "id": "V-kqFc8LAq2I",
        "outputId": "1bdef8f8-e5c1-41a1-eb07-1425dcf8bee5"
      },
      "execution_count": 22,
      "outputs": [
        {
          "output_type": "stream",
          "name": "stdout",
          "text": [
            "F-Statistic: 15.00\n",
            "P-Value: 0.0014\n"
          ]
        },
        {
          "output_type": "stream",
          "name": "stderr",
          "text": [
            "<ipython-input-22-fc53df7335d5>:18: MatplotlibDeprecationWarning: The 'labels' parameter of boxplot() has been renamed 'tick_labels' since Matplotlib 3.9; support for the old name will be dropped in 3.11.\n",
            "  plt.boxplot([group1, group2, group3], labels=['Group 1', 'Group 2', 'Group 3'])\n"
          ]
        },
        {
          "output_type": "display_data",
          "data": {
            "text/plain": [
              "<Figure size 640x480 with 1 Axes>"
            ],
            "image/png": "[encoded data removed]"
          },
          "metadata": {}
        },
        {
          "output_type": "stream",
          "name": "stdout",
          "text": [
            "Reject the null hypothesis: Significant differences between groups.\n"
          ]
        }
      ]
    },
    {
      "cell_type": "markdown",
      "source": [
        "23.  Simulate random data from a normal distribution, then perform hypothesis testing to evaluate the means."
      ],
      "metadata": {
        "id": "7CrzPQHYAu_4"
      }
    },
    {
      "cell_type": "markdown",
      "source": [
        "Here's a Python program to simulate random data from a normal distribution and perform hypothesis testing:\n",
        "\n"
      ],
      "metadata": {
        "id": "6qhxutemAzUD"
      }
    },
    {
      "cell_type": "code",
      "source": [
        "import numpy as np\n",
        "import scipy.stats as stats\n",
        "\n",
        "# Simulate data\n",
        "np.random.seed(42)\n",
        "sample1 = np.random.normal(loc=50, scale=10, size=100)\n",
        "sample2 = np.random.normal(loc=55, scale=10, size=100)\n",
        "\n",
        "# Perform hypothesis testing (two-sample t-test)\n",
        "t_stat, p_value = stats.ttest_ind(sample1, sample2)\n",
        "\n",
        "# Output results\n",
        "print(f\"T-Statistic: {t_stat:.2f}\")\n",
        "print(f\"P-Value: {p_value:.4f}\")\n",
        "\n",
        "# Interpretation\n",
        "alpha = 0.05\n",
        "if p_value < alpha:\n",
        "    print(\"Reject the null hypothesis: Significant difference between means.\")\n",
        "else:\n",
        "    print(\"Fail to reject the null hypothesis: No significant difference between means.\")\n"
      ],
      "metadata": {
        "colab": {
          "base_uri": "https://localhost:8080/"
        },
        "id": "Nm7tfbOvA7cv",
        "outputId": "918db3ca-e628-4c3a-ad27-12fb53768778"
      },
      "execution_count": 23,
      "outputs": [
        {
          "output_type": "stream",
          "name": "stdout",
          "text": [
            "T-Statistic: -4.75\n",
            "P-Value: 0.0000\n",
            "Reject the null hypothesis: Significant difference between means.\n"
          ]
        }
      ]
    },
    {
      "cell_type": "markdown",
      "source": [
        "24.  Perform a hypothesis test for population variance using a Chi-square distribution and interpret the results."
      ],
      "metadata": {
        "id": "hkEDb06nBKon"
      }
    },
    {
      "cell_type": "markdown",
      "source": [
        "Here's a Python program to perform a hypothesis test for population variance using a Chi-square distribution:"
      ],
      "metadata": {
        "id": "TcpSbt0zBNtR"
      }
    },
    {
      "cell_type": "code",
      "source": [
        "import numpy as np\n",
        "import scipy.stats as stats\n",
        "\n",
        "def chi_square_variance_test(sample, population_variance):\n",
        "    n = len(sample)\n",
        "    sample_variance = np.var(sample, ddof=1)\n",
        "    chi2_stat = (n - 1) * sample_variance / population_variance\n",
        "    p_value = 1 - stats.chi2.cdf(chi2_stat, df=n-1)\n",
        "    return chi2_stat, p_value\n",
        "\n",
        "# Example usage\n",
        "sample = [10, 12, 15, 18, 20, 25, 30]\n",
        "population_variance = 15\n",
        "\n",
        "chi2_stat, p_value = chi_square_variance_test(sample, population_variance)\n",
        "\n",
        "# Output results\n",
        "print(f\"Chi-square Statistic: {chi2_stat:.2f}\")\n",
        "print(f\"P-Value: {p_value:.4f}\")\n",
        "\n",
        "# Interpretation\n",
        "alpha = 0.05\n",
        "if p_value < alpha:\n",
        "    print(\"Reject the null hypothesis: Significant difference in population variance.\")\n",
        "else:\n",
        "    print(\"Fail to reject the null hypothesis: No significant difference in population variance.\")\n"
      ],
      "metadata": {
        "colab": {
          "base_uri": "https://localhost:8080/"
        },
        "id": "arxl63QqBR0I",
        "outputId": "d0a754b5-f4fd-45e5-b729-9f1f21b711b4"
      },
      "execution_count": 24,
      "outputs": [
        {
          "output_type": "stream",
          "name": "stdout",
          "text": [
            "Chi-square Statistic: 20.25\n",
            "P-Value: 0.0025\n",
            "Reject the null hypothesis: Significant difference in population variance.\n"
          ]
        }
      ]
    },
    {
      "cell_type": "markdown",
      "source": [
        "25. Write a Python script to perform a Z-test for comparing proportions between two datasets or groups."
      ],
      "metadata": {
        "id": "33XHquqFBa23"
      }
    },
    {
      "cell_type": "markdown",
      "source": [
        "Here's a Python script to perform a Z-test for comparing proportions between two datasets or groups:"
      ],
      "metadata": {
        "id": "jmfjk5fkBkiv"
      }
    },
    {
      "cell_type": "code",
      "source": [
        "import scipy.stats as stats\n",
        "\n",
        "def z_test_proportions(sample1, sample2):\n",
        "    p1 = sum(sample1) / len(sample1)\n",
        "    p2 = sum(sample2) / len(sample2)\n",
        "    pooled_proportion = (sum(sample1) + sum(sample2)) / (len(sample1) + len(sample2))\n",
        "    z_stat = (p1 - p2) / np.sqrt(pooled_proportion * (1 - pooled_proportion) * (1/len(sample1) + 1/len(sample2)))\n",
        "    p_value = stats.norm.sf(abs(z_stat)) * 2  # Two-tailed test\n",
        "    return z_stat, p_value\n",
        "\n",
        "# Example usage\n",
        "group1 = [50, 45, 60, 55]\n",
        "group2 = [40, 35, 45, 50]\n",
        "\n",
        "z_stat, p_value = z_test_proportions(group1, group2)\n",
        "\n",
        "# Output results\n",
        "print(f\"Z-Statistic: {z_stat:.2f}\")\n",
        "print(f\"P-Value: {p_value:.4f}\")\n",
        "\n",
        "# Interpretation\n",
        "alpha = 0.05\n",
        "if p_value < alpha:\n",
        "    print(\"Reject the null hypothesis: Significant difference in proportions.\")\n",
        "else:\n",
        "    print(\"Fail to reject the null hypothesis: No significant difference in proportions.\")\n"
      ],
      "metadata": {
        "colab": {
          "base_uri": "https://localhost:8080/"
        },
        "id": "n2P75RvJBpks",
        "outputId": "db35addb-8046-4bea-da3b-ea1f190f5881"
      },
      "execution_count": 25,
      "outputs": [
        {
          "output_type": "stream",
          "name": "stdout",
          "text": [
            "Z-Statistic: nan\n",
            "P-Value: nan\n",
            "Fail to reject the null hypothesis: No significant difference in proportions.\n"
          ]
        },
        {
          "output_type": "stream",
          "name": "stderr",
          "text": [
            "<ipython-input-25-e95d1de3f698>:7: RuntimeWarning: invalid value encountered in sqrt\n",
            "  z_stat = (p1 - p2) / np.sqrt(pooled_proportion * (1 - pooled_proportion) * (1/len(sample1) + 1/len(sample2)))\n"
          ]
        }
      ]
    },
    {
      "cell_type": "markdown",
      "source": [
        "26.  Implement an F-test for comparing the variances of two datasets, then interpret and visualize the results."
      ],
      "metadata": {
        "id": "DL1QyApdBsm0"
      }
    },
    {
      "cell_type": "markdown",
      "source": [
        "Here's a Python script to implement an F-test for comparing the variances of two datasets:"
      ],
      "metadata": {
        "id": "1-v7psG1B3oO"
      }
    },
    {
      "cell_type": "code",
      "source": [
        "import numpy as np\n",
        "import scipy.stats as stats\n",
        "import matplotlib.pyplot as plt\n",
        "\n",
        "def f_test_variances(sample1, sample2):\n",
        "    var1 = np.var(sample1, ddof=1)\n",
        "    var2 = np.var(sample2, ddof=1)\n",
        "    f_stat = var1 / var2\n",
        "    df1 = len(sample1) - 1\n",
        "    df2 = len(sample2) - 1\n",
        "    p_value = stats.f.sf(f_stat, df1, df2)\n",
        "    return f_stat, p_value\n",
        "\n",
        "# Example usage\n",
        "sample1 = [10, 12, 14, 16]\n",
        "sample2 = [15, 17, 19, 21]\n",
        "\n",
        "f_stat, p_value = f_test_variances(sample1, sample2)\n",
        "\n",
        "# Output results\n",
        "print(f\"F-Statistic: {f_stat:.2f}\")\n",
        "print(f\"P-Value: {p_value:.4f}\")\n",
        "\n",
        "# Visualization\n",
        "plt.bar(['Sample 1 Variance', 'Sample 2 Variance'], [np.var(sample1, ddof=1), np.var(sample2, ddof=1)])\n",
        "plt.title('Variance Comparison')\n",
        "plt.ylabel('Variance')\n",
        "plt.show()\n",
        "\n",
        "# Interpretation\n",
        "alpha = 0.05\n",
        "if p_value < alpha:\n",
        "    print(\"Reject the null hypothesis: Significant difference in variances.\")\n",
        "else:\n",
        "    print(\"Fail to reject the null hypothesis: No significant difference in variances.\")\n"
      ],
      "metadata": {
        "colab": {
          "base_uri": "https://localhost:8080/",
          "height": 504
        },
        "id": "K9DlQtplB-gK",
        "outputId": "1856e27c-35e5-462a-97c2-d21fde9d77e4"
      },
      "execution_count": 26,
      "outputs": [
        {
          "output_type": "stream",
          "name": "stdout",
          "text": [
            "F-Statistic: 1.00\n",
            "P-Value: 0.5000\n"
          ]
        },
        {
          "output_type": "display_data",
          "data": {
            "text/plain": [
              "<Figure size 640x480 with 1 Axes>"
            ],
            "image/png": "[encoded data removed]"
          },
          "metadata": {}
        },
        {
          "output_type": "stream",
          "name": "stdout",
          "text": [
            "Fail to reject the null hypothesis: No significant difference in variances.\n"
          ]
        }
      ]
    },
    {
      "cell_type": "markdown",
      "source": [
        "27.  Perform a Chi-square test for goodness of fit with simulated data and analyze the results."
      ],
      "metadata": {
        "id": "FRxg1E3KCHMo"
      }
    },
    {
      "cell_type": "markdown",
      "source": [
        "Here's a Python script to perform a Chi-square test for goodness of fit with simulated data:"
      ],
      "metadata": {
        "id": "YYW_y9fMCJP0"
      }
    },
    {
      "cell_type": "code",
      "source": [
        "import numpy as np\n",
        "import scipy.stats as stats\n",
        "\n",
        "# Simulated data\n",
        "observed = np.array([30, 25, 20, 25])\n",
        "expected = np.array([25, 25, 25, 25])\n",
        "\n",
        "# Perform Chi-square goodness of fit test\n",
        "chi2_stat, p_value = stats.chisquare(observed, expected)\n",
        "\n",
        "# Output results\n",
        "print(f\"Chi-square Statistic: {chi2_stat:.2f}\")\n",
        "print(f\"P-Value: {p_value:.4f}\")\n",
        "\n",
        "# Interpretation\n",
        "alpha = 0.05\n",
        "if p_value < alpha:\n",
        "    print(\"Reject the null hypothesis: The data does not fit the expected distribution.\")\n",
        "else:\n",
        "    print(\"Fail to reject the null hypothesis: The data fits the expected distribution.\")\n"
      ],
      "metadata": {
        "colab": {
          "base_uri": "https://localhost:8080/"
        },
        "id": "HQW02r8JCNL8",
        "outputId": "bdc6f154-7cbb-4ce3-828d-84a4ce301f91"
      },
      "execution_count": 27,
      "outputs": [
        {
          "output_type": "stream",
          "name": "stdout",
          "text": [
            "Chi-square Statistic: 2.00\n",
            "P-Value: 0.5724\n",
            "Fail to reject the null hypothesis: The data fits the expected distribution.\n"
          ]
        }
      ]
    }
  ]
}